{
 "cells": [
  {
   "cell_type": "code",
   "execution_count": 1,
   "id": "68f149a0-c752-4e4c-8492-fe8872523652",
   "metadata": {},
   "outputs": [],
   "source": [
    "import pandas as pd\n",
    "from Univariate_lib import univariate\n",
    "ds=pd.read_csv(\"Placement.csv\")"
   ]
  },
  {
   "cell_type": "code",
   "execution_count": 2,
   "id": "1e6a2e31-1f3c-4327-ac72-f42b08d06fbd",
   "metadata": {},
   "outputs": [],
   "source": [
    "#obj=univariate()"
   ]
  },
  {
   "cell_type": "code",
   "execution_count": 3,
   "id": "af64a6a5-1dec-48f4-8d7e-1caacb526607",
   "metadata": {},
   "outputs": [
    {
     "data": {
      "text/plain": [
       "(['sl_no', 'ssc_p', 'hsc_p', 'degree_p', 'etest_p', 'mba_p', 'salary'],\n",
       " ['gender',\n",
       "  'ssc_b',\n",
       "  'hsc_b',\n",
       "  'hsc_s',\n",
       "  'degree_t',\n",
       "  'workex',\n",
       "  'specialisation',\n",
       "  'status'])"
      ]
     },
     "execution_count": 3,
     "metadata": {},
     "output_type": "execute_result"
    }
   ],
   "source": [
    "univariate.quanqual(ds)"
   ]
  },
  {
   "cell_type": "code",
   "execution_count": null,
   "id": "ec8cff2a-68f9-4075-832f-686196528def",
   "metadata": {},
   "outputs": [],
   "source": []
  }
 ],
 "metadata": {
  "kernelspec": {
   "display_name": "Python 3 (ipykernel)",
   "language": "python",
   "name": "python3"
  },
  "language_info": {
   "codemirror_mode": {
    "name": "ipython",
    "version": 3
   },
   "file_extension": ".py",
   "mimetype": "text/x-python",
   "name": "python",
   "nbconvert_exporter": "python",
   "pygments_lexer": "ipython3",
   "version": "3.10.14"
  }
 },
 "nbformat": 4,
 "nbformat_minor": 5
}
